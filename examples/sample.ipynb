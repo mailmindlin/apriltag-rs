{
 "cells": [
  {
   "cell_type": "code",
   "execution_count": null,
   "metadata": {},
   "outputs": [],
   "source": [
    "# import os\n",
    "# os.environ['RUST_BACKTRACE'] = '1'\n",
    "from apriltag_rs import Detector, AprilTagFamily\n",
    "family = AprilTagFamily.for_name('tag16h5')\n",
    "detector = Detector(\n",
    "    families=[(family, 2)],\n",
    "    # quad_decimate=2.0,\n",
    "    quad_sigma=0.0,\n",
    "    # refine_edges=True,\n",
    "    debug=True\n",
    ")"
   ]
  },
  {
   "cell_type": "code",
   "execution_count": null,
   "metadata": {},
   "outputs": [],
   "source": [
    "from imageio.v3 import imread\n",
    "import cv2\n",
    "import numpy as np\n",
    "import matplotlib.pyplot as plt\n",
    "color = (255, 0,0)\n",
    "# v = imread('~/Downloads/Corrected/589163918_50.png')\n",
    "v = imread('./16h5.png')\n",
    "for aprilTag in detector.detect(v[:,:,0]).detections:\n",
    "    print('found tag', aprilTag.hamming)\n",
    "    center = int(aprilTag.center[0]), int(aprilTag.center[1])\n",
    "\n",
    "    cv2.polylines(v, [np.asarray(aprilTag.corners).astype(np.int32)], True, color, 2, cv2.LINE_AA, 0)\n",
    "\n",
    "    idStr = \"ID: \" + str(aprilTag.tag_id)\n",
    "    cv2.putText(v, idStr, center, cv2.FONT_HERSHEY_TRIPLEX, .5, color)\n",
    "\n",
    "plt.imshow(v)"
   ]
  },
  {
   "cell_type": "code",
   "execution_count": null,
   "metadata": {},
   "outputs": [],
   "source": [
    "print(str(res.time_profile))"
   ]
  },
  {
   "cell_type": "code",
   "execution_count": null,
   "metadata": {},
   "outputs": [],
   "source": [
    "from apriltag_rs import AprilTagFamily\n",
    "fam = AprilTagFamily.for_name('tag36h11')\n",
    "fam.codes = fam.codes[0:1]\n",
    "det.add_family(fam, 1)"
   ]
  }
 ],
 "metadata": {
  "kernelspec": {
   "display_name": "Python 3",
   "language": "python",
   "name": "python3"
  },
  "language_info": {
   "codemirror_mode": {
    "name": "ipython",
    "version": 3
   },
   "file_extension": ".py",
   "mimetype": "text/x-python",
   "name": "python",
   "nbconvert_exporter": "python",
   "pygments_lexer": "ipython3",
   "version": "3.11.2"
  },
  "orig_nbformat": 4
 },
 "nbformat": 4,
 "nbformat_minor": 2
}
