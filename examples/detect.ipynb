{
 "cells": [
  {
   "cell_type": "code",
   "execution_count": null,
   "metadata": {},
   "outputs": [],
   "source": [
    "import os\n",
    "os.environ['RUST_BACKTRACE'] = '1'\n",
    "import apriltag_rs\n",
    "config = apriltag_rs.DetectorConfig()\n",
    "config.nthreads = 0\n",
    "config.debug = False\n",
    "config.debug_path = './debug'\n",
    "config"
   ]
  },
  {
   "cell_type": "code",
   "execution_count": null,
   "metadata": {},
   "outputs": [],
   "source": [
    "builder = apriltag_rs.DetectorBuilder()\n",
    "builder.config = config\n",
    "builder.acceleration = 'prefer'\n",
    "builder.add_family('tag16h5')\n",
    "builder.add_family('tag36h11')\n",
    "builder"
   ]
  },
  {
   "cell_type": "code",
   "execution_count": null,
   "metadata": {},
   "outputs": [],
   "source": [
    "detector = builder.build()\n",
    "detector"
   ]
  },
  {
   "cell_type": "code",
   "execution_count": null,
   "metadata": {},
   "outputs": [],
   "source": [
    "import cv2\n",
    "img = cv2.imread('./16h5.png', cv2.IMREAD_GRAYSCALE)\n",
    "img.shape"
   ]
  },
  {
   "cell_type": "code",
   "execution_count": null,
   "metadata": {},
   "outputs": [],
   "source": [
    "detections = detector.detect(img)\n",
    "print(detections.time_profile)"
   ]
  },
  {
   "cell_type": "code",
   "execution_count": null,
   "metadata": {},
   "outputs": [],
   "source": [
    "import numpy as np\n",
    "im2 = cv2.cvtColor(img, cv2.COLOR_GRAY2BGR)\n",
    "for detection in detections:\n",
    "    for i in range(len(detection.corners)):\n",
    "        c1 = [int(x) for x in detection.corners[i]]\n",
    "        c2 = [int(x) for x in detection.corners[(i + 1) % 4]]\n",
    "        cv2.line(im2, c1,c2, (0, 0, 255))\n",
    "cv2.imshow('x', im2)\n",
    "cv2.waitKey(0)\n",
    "cv2.destroyWindow('x')\n",
    "cv2.waitKey(1)"
   ]
  },
  {
   "cell_type": "code",
   "execution_count": null,
   "metadata": {},
   "outputs": [],
   "source": [
    "print(detections.time_profile)"
   ]
  },
  {
   "cell_type": "code",
   "execution_count": null,
   "metadata": {},
   "outputs": [],
   "source": [
    "print(detections)"
   ]
  },
  {
   "cell_type": "code",
   "execution_count": null,
   "metadata": {},
   "outputs": [],
   "source": [
    "pose = apriltag_rs.PoseEstimator(353.74653217742724,163.55407989211918,340.77624878700817,119.8945718300403,.15)\n",
    "sol = pose.estimate_tag_pose_orthogonal_iteration(detections.detections[1])\n",
    "# pose.estimate_tag_pose(detections.detections[0]).t\n",
    "sol"
   ]
  }
 ],
 "metadata": {
  "kernelspec": {
   "display_name": "Python 3",
   "language": "python",
   "name": "python3"
  },
  "language_info": {
   "codemirror_mode": {
    "name": "ipython",
    "version": 3
   },
   "file_extension": ".py",
   "mimetype": "text/x-python",
   "name": "python",
   "nbconvert_exporter": "python",
   "pygments_lexer": "ipython3",
   "version": "3.12.3"
  }
 },
 "nbformat": 4,
 "nbformat_minor": 2
}
